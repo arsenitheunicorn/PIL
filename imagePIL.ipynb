{
 "cells": [
  {
   "cell_type": "code",
   "execution_count": null,
   "metadata": {},
   "outputs": [],
   "source": [
    "#!pip install Pillow"
   ]
  },
  {
   "cell_type": "code",
   "execution_count": 1,
   "metadata": {},
   "outputs": [],
   "source": [
    "from PIL import Image, ImageDraw, ImageFont\n",
    "import json\n",
    "from urllib.request import urlopen\n",
    "import requests\n",
    "from io import BytesIO\n",
    "from bs4 import BeautifulSoup"
   ]
  },
  {
   "cell_type": "code",
   "execution_count": 2,
   "metadata": {},
   "outputs": [],
   "source": [
    "layout = Image.open(\"maket_plain.jpg\") # макет должен лежать в той же папке, что и скрипт"
   ]
  },
  {
   "cell_type": "code",
   "execution_count": 3,
   "metadata": {},
   "outputs": [],
   "source": [
    "base_config = json.load(open(\"base_config.json\", 'r'))"
   ]
  },
  {
   "cell_type": "code",
   "execution_count": 4,
   "metadata": {},
   "outputs": [],
   "source": [
    "def feedParser(fpath: str):\n",
    "    \n",
    "    # работает и со ссылками, и с локальными файлами    \n",
    "    if fpath.startswith(\"http\"):\n",
    "        xmlSoup = BeautifulSoup(urlopen(fpath), \"xml\")\n",
    "    else:\n",
    "        xmlSoup = BeautifulSoup(open(fpath, 'r', encoding='utf-8'), \"xml\") \n",
    "        \n",
    "    feedDict = dict()    \n",
    "    \n",
    "    for item in xmlSoup.find_all(\"item\"):\n",
    "        itemID = item.find(\"g:id\").text\n",
    "        iTitle = item.find(\"g:title\").text\n",
    "        iImageLink = item.find(\"g:image_link\").text.strip()\n",
    "        iBrand = item.find(\"g:brand\").text.strip()\n",
    "        iPrice = item.find(\"g:price\").text.strip()\n",
    "        iSalePrice = item.find(\"g:sale_price\").text.strip() if item.find(\"g:sale_price\") else \"\"\n",
    "        \n",
    "        feedDict[itemID] = {\n",
    "            \"ID\": itemID,\n",
    "            \"title\": iTitle,\n",
    "            \"image\": iImageLink,\n",
    "            \"brand\": iBrand,\n",
    "            \"price\": iPrice,\n",
    "            \"sale_price\": iSalePrice\n",
    "        }\n",
    "    \n",
    "    return feedDict"
   ]
  },
  {
   "cell_type": "code",
   "execution_count": 5,
   "metadata": {},
   "outputs": [],
   "source": [
    "feed = feedParser(\"\") # don't forget to write the url"
   ]
  },
  {
   "cell_type": "code",
   "execution_count": 11,
   "metadata": {},
   "outputs": [],
   "source": [
    "# config=config, font=font\n",
    "def produceCreative(item: dict, base_layout=layout, base_config=base_config):\n",
    "    layout = base_layout.copy()\n",
    "    w = base_config[\"image\"][\"width\"]\n",
    "    h = base_config[\"image\"][\"height\"]\n",
    "    l = base_config[\"image\"][\"left\"]\n",
    "    t = base_config[\"image\"][\"top\"]\n",
    "    \n",
    "    response = requests.get(item[\"image\"])\n",
    "    img = Image.open(BytesIO(response.content))#.convert(\"RGBA\")\n",
    "    img = img.resize((w,h), Image.ANTIALIAS)\n",
    "      \n",
    "    layout.paste(img, (l, t, l+img.width, t+img.height))\n",
    "    \n",
    "    text_features = [base_config[x] for x in base_config if x.startswith(\"text\")]\n",
    "    \n",
    "    for TF in text_features:\n",
    "        T = item[TF[\"feature\"]]\n",
    "        font = ImageFont.truetype(\"arial.ttf\", TF[\"size\"]) # относительная локальная ссылка на файл со шрифтом в формате .ttf\n",
    "    \n",
    "        draw_text = ImageDraw.Draw(layout)\n",
    "        draw_text.text(\n",
    "            (TF[\"left\"], TF[\"top\"]),\n",
    "            T,\n",
    "            fill = '#1C0606', # whatever color u like\n",
    "            font=font,\n",
    "        )\n",
    "        \n",
    "    layout.save(item[\"ID\"] + \".jpg\")\n",
    "    layout.close()"
   ]
  },
  {
   "cell_type": "code",
   "execution_count": 7,
   "metadata": {},
   "outputs": [],
   "source": [
    "produceCreative(feed[list(feed.keys())[11]])"
   ]
  },
  {
   "cell_type": "code",
   "execution_count": 12,
   "metadata": {
    "collapsed": true
   },
   "outputs": [
    {
     "name": "stdout",
     "output_type": "stream",
     "text": [
      "33036245631075\n",
      "32051545636963\n",
      "32051563757667\n",
      "32051526172771\n",
      "13337050710115\n",
      "32051526041699\n",
      "33036244353123\n",
      "33036244484195\n",
      "32051527057507\n",
      "32051525124195\n",
      "32051563561059\n",
      "32051561168995\n",
      "32051563659363\n",
      "32051564052579\n",
      "33036229116003\n",
      "12654753972323\n",
      "12654819115107\n",
      "12654819934307\n",
      "33036232687715\n",
      "31728406823011\n",
      "31728438280291\n",
      "31728726671459\n",
      "31728752066659\n",
      "32051546357859\n",
      "31728562733155\n",
      "31728595271779\n",
      "31728610115683\n",
      "32143975809123\n",
      "32143981379683\n",
      "32143983870051\n",
      "32143966601315\n",
      "32143968108643\n",
      "32143970205795\n",
      "32051563462755\n",
      "33036214075491\n",
      "33036214304867\n",
      "32051536330851\n",
      "32051563954275\n",
      "32051546292323\n",
      "32051540754531\n"
     ]
    }
   ],
   "source": [
    "for picID in list(feed.keys())[:40]:\n",
    "    produceCreative(feed[picID])\n",
    "    #print(picID)"
   ]
  }
 ],
 "metadata": {
  "kernelspec": {
   "display_name": "Python 3",
   "language": "python",
   "name": "python3"
  },
  "language_info": {
   "codemirror_mode": {
    "name": "ipython",
    "version": 3
   },
   "file_extension": ".py",
   "mimetype": "text/x-python",
   "name": "python",
   "nbconvert_exporter": "python",
   "pygments_lexer": "ipython3",
   "version": "3.7.6"
  }
 },
 "nbformat": 4,
 "nbformat_minor": 4
}
