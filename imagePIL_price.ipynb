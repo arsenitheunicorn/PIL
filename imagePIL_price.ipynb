{
 "cells": [
  {
   "cell_type": "code",
   "execution_count": 4,
   "metadata": {},
   "outputs": [],
   "source": [
    "#!pip install Pillow\n",
    "#!pip install textwrap3\n",
    "#!pip install json\n",
    "#!pip install urllib\n",
    "#!pip install bs4\n",
    "#!pip install requests\n",
    "#!pip install babel"
   ]
  },
  {
   "cell_type": "code",
   "execution_count": 5,
   "metadata": {},
   "outputs": [],
   "source": [
    "from PIL import Image, ImageDraw, ImageFont\n",
    "import json\n",
    "from urllib.request import urlopen\n",
    "import requests\n",
    "from io import BytesIO\n",
    "from bs4 import BeautifulSoup\n",
    "import re\n",
    "from textwrap3 import wrap\n",
    "from babel.numbers import format_currency\n",
    "import decimal\n",
    "import os"
   ]
  },
  {
   "cell_type": "code",
   "execution_count": null,
   "metadata": {},
   "outputs": [],
   "source": []
  },
  {
   "cell_type": "code",
   "execution_count": 6,
   "metadata": {},
   "outputs": [],
   "source": [
    "layout = Image.open(\"maket_plain.jpg\") # макет должен лежать в той же папке, что и скрипт"
   ]
  },
  {
   "cell_type": "code",
   "execution_count": 7,
   "metadata": {},
   "outputs": [],
   "source": [
    "base_config = json.load(open(\"base_config.json\", 'r'))"
   ]
  },
  {
   "cell_type": "code",
   "execution_count": 8,
   "metadata": {},
   "outputs": [],
   "source": [
    "def feedParser(fpath: str):\n",
    "    \n",
    "    # работает и со ссылками, и с локальными файлами    \n",
    "    if fpath.startswith(\"http\"):\n",
    "        xmlSoup = BeautifulSoup(urlopen(fpath), \"xml\")\n",
    "    else:\n",
    "        xmlSoup = BeautifulSoup(open(fpath, 'r', encoding='utf-8'), \"xml\") \n",
    "        \n",
    "    feedDict = dict()    \n",
    "    \n",
    "    for item in xmlSoup.find_all(\"item\"):\n",
    "        itemID = item.find(\"g:id\").text\n",
    "        iTitle = item.find(\"g:title\").text\n",
    "        iImageLink = item.find(\"g:image_link\").text.strip()\n",
    "        iBrand = item.find(\"g:brand\").text.strip()\n",
    "        iPrice = item.find(\"g:price\").text.strip()\n",
    "        iSalePrice = item.find(\"g:sale_price\").text.strip() if item.find(\"g:sale_price\") else \"\"\n",
    "        iSaleDate = item.find(\"g:sale_price_effective_date\").text.strip() if item.find(\"g:sale_price_effective_date\") else \"\"\n",
    "        iAvailability = item.find(\"g:availability\").text.strip()\n",
    "        iWeight = item.find(\"g:shipping_weight\").text.strip()\n",
    "        iProductType = item.find(\"g:product_type\").text.strip()\n",
    "        \n",
    "        feedDict[itemID] = {\n",
    "            \"ID\": itemID,\n",
    "            \"title\": iTitle,\n",
    "            \"image\": iImageLink,\n",
    "            \"brand\": iBrand,\n",
    "            \"price\": iPrice,\n",
    "            \"sale_price\": iSalePrice,\n",
    "            'sale_price_effective_date': iSaleDate,\n",
    "            \"shipping_weight\": iWeight,\n",
    "            \"product_type\": iProductType,\n",
    "            \"availability\": iAvailability\n",
    "            \n",
    "        }\n",
    "    \n",
    "    return feedDict"
   ]
  },
  {
   "cell_type": "code",
   "execution_count": 9,
   "metadata": {},
   "outputs": [],
   "source": [
    "def attach_image(confDict: dict, item: dict, layout):\n",
    "    if confDict[\"content\"] == \"feed\":\n",
    "        response = requests.get(item[\"image\"])\n",
    "        img = Image.open(BytesIO(response.content))\n",
    "    else:\n",
    "        fpath = confDict[\"content\"]\n",
    "        if fpath.startswith(\"http\") or fpath.startswith(\"www\"):\n",
    "            response = requests.get(fpath)\n",
    "            img = Image.open(BytesIO(response.content))\n",
    "        else:\n",
    "            img = Image.open(fpath)\n",
    "    if \"width\" in confDict:\n",
    "        width = confDict['width']\n",
    "        raw_size = img.size\n",
    "        aspect_ratio = raw_size[1] / raw_size[0]\n",
    "        height = round(aspect_ratio * width)\n",
    "        img = img.resize((width, height), Image.ANTIALIAS)\n",
    "    \n",
    "    margin_top = confDict[\"margin-top\"]\n",
    "    margin_left = confDict[\"margin-left\"]\n",
    "    \n",
    "    layout.paste(img, (margin_left, margin_top, margin_left+img.width, margin_top+img.height))"
   ]
  },
  {
   "cell_type": "code",
   "execution_count": 10,
   "metadata": {},
   "outputs": [],
   "source": [
    "def price_customer(price):\n",
    "    price = price.strip()\n",
    "    amount, curr = price.rsplit(' ', maxsplit=1)\n",
    "    \n",
    "    if amount.split('.')[1] == \"00\":\n",
    "        return format_currency(decimal.Decimal(amount), curr, locale='en_US')[:-3]\n",
    "    else:    \n",
    "        return format_currency(decimal.Decimal(amount), curr, locale='en_US')"
   ]
  },
  {
   "cell_type": "code",
   "execution_count": 11,
   "metadata": {},
   "outputs": [],
   "source": [
    "def attach_text(confDict: dict, item: dict, layout):\n",
    "    content = confDict[\"content\"]\n",
    "    if content in item:\n",
    "        text = item[content]\n",
    "    else:\n",
    "        text = content\n",
    "        \n",
    "    if content == \"price\" or content == \"sale_price\":\n",
    "        text = price_customer(text)\n",
    "        \n",
    "    size = confDict[\"font-size\"]\n",
    "    font_path = confDict[\"font\"]\n",
    "    align = confDict[\"align\"]\n",
    "    #line_height = confDict[\"line_height\"]\n",
    "    \n",
    "    font = ImageFont.truetype(open(font_path, \"rb\"), size=size)\n",
    "    \n",
    "    margin_top = confDict[\"margin-top\"]\n",
    "    margin_left = confDict[\"margin-left\"]\n",
    "    \n",
    "    if \"width\" in confDict:\n",
    "        width = confDict[\"width\"]\n",
    "    else:\n",
    "        width = 40\n",
    "    line_height = confDict[\"line-height\"]\n",
    "    \n",
    "    draw_text = ImageDraw.Draw(layout)\n",
    "    \n",
    "    for line in wrap(text, width):\n",
    "        draw_text.text((margin_left, margin_top), line, font=font, align=align, fill='#1C0606')\n",
    "        margin_top += line_height"
   ]
  },
  {
   "cell_type": "code",
   "execution_count": 15,
   "metadata": {},
   "outputs": [],
   "source": [
    "def produceCreative(item: dict, base_layout=layout, base_config=base_config):\n",
    "    layout = base_layout.copy()\n",
    "    \n",
    "    for feature in base_config:\n",
    "        if feature.startswith(\"text\"):\n",
    "            attach_text(base_config[feature], item=item, layout=layout)\n",
    "        elif feature.startswith(\"image\"):\n",
    "            attach_image(base_config[feature], item=item, layout=layout)\n",
    "    \n",
    "    layout.save(os.path.join(os.getcwd(), \"output\", item[\"ID\"] + \".jpg\"))\n",
    "    layout.close()"
   ]
  },
  {
   "cell_type": "code",
   "execution_count": 13,
   "metadata": {},
   "outputs": [],
   "source": [
    "feed = feedParser(\"scanlantheodore.myshopify.xml\") # don't forget to write the url"
   ]
  },
  {
   "cell_type": "code",
   "execution_count": null,
   "metadata": {},
   "outputs": [],
   "source": [
    "for picID in list(feed.keys()):\n",
    "    produceCreative(feed[picID])\n",
    "    #print(picID)"
   ]
  }
 ],
 "metadata": {
  "kernelspec": {
   "display_name": "Python 3",
   "language": "python",
   "name": "python3"
  },
  "language_info": {
   "codemirror_mode": {
    "name": "ipython",
    "version": 3
   },
   "file_extension": ".py",
   "mimetype": "text/x-python",
   "name": "python",
   "nbconvert_exporter": "python",
   "pygments_lexer": "ipython3",
   "version": "3.7.6"
  }
 },
 "nbformat": 4,
 "nbformat_minor": 4
}
